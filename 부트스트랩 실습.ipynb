{
 "cells": [
  {
   "cell_type": "code",
   "execution_count": 160,
   "metadata": {
    "ExecuteTime": {
     "end_time": "2020-11-28T08:12:44.925666Z",
     "start_time": "2020-11-28T08:12:43.187567Z"
    }
   },
   "outputs": [],
   "source": [
    "import pandas as pd\n",
    "import numpy as np\n",
    "import matplotlib.pyplot as plt\n",
    "import seaborn as sns"
   ]
  },
  {
   "cell_type": "code",
   "execution_count": 209,
   "metadata": {
    "ExecuteTime": {
     "end_time": "2020-11-28T08:21:12.566702Z",
     "start_time": "2020-11-28T08:21:12.555701Z"
    }
   },
   "outputs": [
    {
     "name": "stdout",
     "output_type": "stream",
     "text": [
      "49410.77\n"
     ]
    }
   ],
   "source": [
    "pop=pd.Series(np.random.randint(low=0,high=100000, size=10000))\n",
    "goal=Pop.mean()\n",
    "print(goal)"
   ]
  },
  {
   "cell_type": "code",
   "execution_count": 210,
   "metadata": {
    "ExecuteTime": {
     "end_time": "2020-11-28T08:21:13.664764Z",
     "start_time": "2020-11-28T08:21:13.658764Z"
    }
   },
   "outputs": [],
   "source": [
    "sample=pop.sample(n=200)"
   ]
  },
  {
   "cell_type": "code",
   "execution_count": 211,
   "metadata": {
    "ExecuteTime": {
     "end_time": "2020-11-28T08:21:14.381805Z",
     "start_time": "2020-11-28T08:21:14.370805Z"
    }
   },
   "outputs": [
    {
     "data": {
      "text/plain": [
       "49402.605"
      ]
     },
     "execution_count": 211,
     "metadata": {},
     "output_type": "execute_result"
    }
   ],
   "source": [
    "sample.mean()"
   ]
  },
  {
   "cell_type": "code",
   "execution_count": 212,
   "metadata": {
    "ExecuteTime": {
     "end_time": "2020-11-28T08:21:15.450867Z",
     "start_time": "2020-11-28T08:21:15.443866Z"
    }
   },
   "outputs": [
    {
     "data": {
      "text/plain": [
       "28805.574408680783"
      ]
     },
     "execution_count": 212,
     "metadata": {},
     "output_type": "execute_result"
    }
   ],
   "source": [
    "sample.std()"
   ]
  },
  {
   "cell_type": "code",
   "execution_count": 213,
   "metadata": {
    "ExecuteTime": {
     "end_time": "2020-11-28T08:21:15.844889Z",
     "start_time": "2020-11-28T08:21:15.838889Z"
    }
   },
   "outputs": [],
   "source": [
    "m=sample.mean()\n",
    "sd=1.96*sample.std()/np.sqrt(200)"
   ]
  },
  {
   "cell_type": "code",
   "execution_count": 214,
   "metadata": {
    "ExecuteTime": {
     "end_time": "2020-11-28T08:21:16.678937Z",
     "start_time": "2020-11-28T08:21:16.674937Z"
    }
   },
   "outputs": [
    {
     "name": "stdout",
     "output_type": "stream",
     "text": [
      "45410.35606793104 , 53394.85393206897\n"
     ]
    }
   ],
   "source": [
    "print(m-sd,',',m+sd)"
   ]
  },
  {
   "cell_type": "code",
   "execution_count": 215,
   "metadata": {
    "ExecuteTime": {
     "end_time": "2020-11-28T08:21:22.987298Z",
     "start_time": "2020-11-28T08:21:18.252027Z"
    }
   },
   "outputs": [
    {
     "data": {
      "text/plain": [
       "<matplotlib.axes._subplots.AxesSubplot at 0xf9d74a8>"
      ]
     },
     "execution_count": 215,
     "metadata": {},
     "output_type": "execute_result"
    },
    {
     "data": {
      "image/png": "[encoded data removed]",
      "text/plain": [
       "<Figure size 432x288 with 1 Axes>"
      ]
     },
     "metadata": {
      "needs_background": "light"
     },
     "output_type": "display_data"
    }
   ],
   "source": [
    "boot_1d = []\n",
    "for i in range(10000):\n",
    "    boot_mean = sample.sample(frac = 0.2,replace = True).mean()\n",
    "    boot_1d.append(boot_mean)\n",
    "boot_1d = pd.DataFrame(boot_1d)\n",
    "boot_1d.plot(kind='density')"
   ]
  },
  {
   "cell_type": "code",
   "execution_count": 216,
   "metadata": {
    "ExecuteTime": {
     "end_time": "2020-11-28T08:21:25.781457Z",
     "start_time": "2020-11-28T08:21:25.771457Z"
    }
   },
   "outputs": [
    {
     "data": {
      "text/plain": [
       "49318.83029"
      ]
     },
     "execution_count": 216,
     "metadata": {},
     "output_type": "execute_result"
    }
   ],
   "source": [
    "boot_1d.mean()[0]"
   ]
  },
  {
   "cell_type": "code",
   "execution_count": 217,
   "metadata": {
    "ExecuteTime": {
     "end_time": "2020-11-28T08:21:26.304487Z",
     "start_time": "2020-11-28T08:21:26.300487Z"
    }
   },
   "outputs": [],
   "source": [
    "d=1.96*boot_1d.std()[0]/np.sqrt(200)"
   ]
  },
  {
   "cell_type": "code",
   "execution_count": 218,
   "metadata": {
    "ExecuteTime": {
     "end_time": "2020-11-28T08:21:26.900521Z",
     "start_time": "2020-11-28T08:21:26.892521Z"
    }
   },
   "outputs": [
    {
     "name": "stdout",
     "output_type": "stream",
     "text": [
      "48684.96310343525 , 49952.69747656475\n"
     ]
    }
   ],
   "source": [
    "print(boot_1d.mean()[0]-d,\",\",boot_1d.mean()[0]+d)"
   ]
  },
  {
   "cell_type": "code",
   "execution_count": null,
   "metadata": {},
   "outputs": [],
   "source": []
  },
  {
   "cell_type": "code",
   "execution_count": null,
   "metadata": {},
   "outputs": [],
   "source": []
  }
 ],
 "metadata": {
  "kernelspec": {
   "display_name": "Python 3",
   "language": "python",
   "name": "python3"
  },
  "language_info": {
   "codemirror_mode": {
    "name": "ipython",
    "version": 3
   },
   "file_extension": ".py",
   "mimetype": "text/x-python",
   "name": "python",
   "nbconvert_exporter": "python",
   "pygments_lexer": "ipython3",
   "version": "3.6.2"
  },
  "toc": {
   "base_numbering": 1,
   "nav_menu": {},
   "number_sections": true,
   "sideBar": true,
   "skip_h1_title": false,
   "title_cell": "Table of Contents",
   "title_sidebar": "Contents",
   "toc_cell": false,
   "toc_position": {},
   "toc_section_display": true,
   "toc_window_display": false
  },
  "varInspector": {
   "cols": {
    "lenName": 16,
    "lenType": 16,
    "lenVar": 40
   },
   "kernels_config": {
    "python": {
     "delete_cmd_postfix": "",
     "delete_cmd_prefix": "del ",
     "library": "var_list.py",
     "varRefreshCmd": "print(var_dic_list())"
    },
    "r": {
     "delete_cmd_postfix": ") ",
     "delete_cmd_prefix": "rm(",
     "library": "var_list.r",
     "varRefreshCmd": "cat(var_dic_list()) "
    }
   },
   "types_to_exclude": [
    "module",
    "function",
    "builtin_function_or_method",
    "instance",
    "_Feature"
   ],
   "window_display": false
  }
 },
 "nbformat": 4,
 "nbformat_minor": 4
}
